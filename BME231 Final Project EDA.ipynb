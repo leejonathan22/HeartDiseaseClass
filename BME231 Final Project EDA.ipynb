{
 "cells": [
  {
   "cell_type": "markdown",
   "id": "25aa60d7-c5e3-4b96-94ae-810f0fdbd64e",
   "metadata": {},
   "source": [
    "## Final Project - BME 231 (Lee, Atsumi, Cashman)"
   ]
  },
  {
   "cell_type": "markdown",
   "id": "232a2834-6235-4af5-8834-fec000bde4b1",
   "metadata": {},
   "source": [
    "EDA Style presentation of Heart Disease Classification"
   ]
  },
  {
   "cell_type": "markdown",
   "id": "ce57367c-cce0-470f-a7a2-6478a3ab7b11",
   "metadata": {},
   "source": [
    "## General Guidelines"
   ]
  },
  {
   "cell_type": "markdown",
   "id": "61c274b5-20e3-4088-8234-e65a879ceff4",
   "metadata": {},
   "source": [
    "* Get the data and gain basic understanding\n",
    "* Wrangle the data\n",
    "* Profile the data\n",
    "* Develop questions to investigate (form a hypotheses)\n",
    "* Use the data to investigate hypothesis\n",
    "* Summarize results and answer questions\n",
    "* Critically review our workflow and discuss ethical concerns"
   ]
  },
  {
   "cell_type": "markdown",
   "id": "461e6583-7217-44ef-9fec-fb1a9c919ff7",
   "metadata": {},
   "source": [
    "### 1. Getting Familiar with the Data"
   ]
  },
  {
   "cell_type": "code",
   "execution_count": null,
   "id": "a0a26744-572f-4e63-bc22-8a7035da6859",
   "metadata": {},
   "outputs": [],
   "source": [
    "import numpy as np\n",
    "import pandas as pd\n",
    "import matplotlib.pyplot as plt\n",
    "import seaborn as sns\n",
    "\n",
    "## Load Data\n",
    "data = pd.read_csv(\"./utility/data/rideshare_kaggle.csv\")\n",
    "print(f\"examples: {data.shape[0]} features: {data.shape[1]}\")\n",
    "data.head()"
   ]
  }
 ],
 "metadata": {
  "kernelspec": {
   "display_name": "Python 3 (ipykernel)",
   "language": "python",
   "name": "python3"
  },
  "language_info": {
   "codemirror_mode": {
    "name": "ipython",
    "version": 3
   },
   "file_extension": ".py",
   "mimetype": "text/x-python",
   "name": "python",
   "nbconvert_exporter": "python",
   "pygments_lexer": "ipython3",
   "version": "3.11.5"
  }
 },
 "nbformat": 4,
 "nbformat_minor": 5
}
